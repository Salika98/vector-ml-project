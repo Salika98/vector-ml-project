{
  "nbformat": 4,
  "nbformat_minor": 2,
  "metadata": {
    "colab": {
      "name": "Part1.ipynb",
      "provenance": []
    },
    "kernelspec": {
      "name": "python3",
      "display_name": "Python 3.6.9 64-bit"
    },
    "language_info": {
      "name": "python",
      "version": "3.6.9",
      "mimetype": "text/x-python",
      "codemirror_mode": {
        "name": "ipython",
        "version": 3
      },
      "pygments_lexer": "ipython3",
      "nbconvert_exporter": "python",
      "file_extension": ".py"
    },
    "interpreter": {
      "hash": "31f2aee4e71d21fbe5cf8b01ff0e069b9275f58929596ceb00d14d90e3e16cd6"
    }
  },
  "cells": [
    {
      "cell_type": "code",
      "execution_count": 27,
      "source": [
        "from tensorflow.keras.datasets import fashion_mnist\n",
        "import matplotlib.pyplot as plt\n",
        "import numpy as np\n",
        "from sklearn.externals import joblib\n",
        "\n",
        "from tensorflow import keras\n",
        "from tensorflow.keras.models import Sequential\n",
        "from tensorflow.keras.layers import Dense, Dropout, Flatten\n",
        "from tensorflow.keras.layers import Conv2D, MaxPooling2D"
      ],
      "outputs": [],
      "metadata": {
        "id": "GIk4Nn3X-3k3"
      }
    },
    {
      "cell_type": "code",
      "execution_count": 12,
      "source": [
        "### Those parameters could be changed, depending on the dataset and the copmutation ###\n",
        "# Number of different classes/labels \n",
        "num_classes = 10\n",
        "\n",
        "# Number of image colour channels. 1 for gray scale, 3 for RGB\n",
        "colour_channels = 1\n",
        "\n",
        "# Parameters for training the model\n",
        "batch_size = 128\n",
        "epochs = 5"
      ],
      "outputs": [],
      "metadata": {
        "id": "VOrUacBUlK0S"
      }
    },
    {
      "cell_type": "code",
      "execution_count": 13,
      "source": [
        "### To use different datasets, the following format must be followed:\n",
        "### x_train_orig, x_test_orig - (number of samples, image rows, image cols)\n",
        "### y_train_orig, y_test_orig - (number of samples,)\n",
        "\n",
        "# Load the dataset\n",
        "(x_train_orig, y_train_orig), (x_test_orig, y_test_orig) = fashion_mnist.load_data()"
      ],
      "outputs": [],
      "metadata": {
        "id": "A-ETdVSW-86x"
      }
    },
    {
      "cell_type": "code",
      "execution_count": 14,
      "source": [
        "# Example of a picture in gray scale\n",
        "index = 1\n",
        "plt.imshow(x_train_orig[index], cmap='gray')\n",
        "print (\"y = \" + str(np.squeeze(y_train_orig[index])))"
      ],
      "outputs": [
        {
          "output_type": "stream",
          "name": "stdout",
          "text": [
            "y = 0\n"
          ]
        },
        {
          "output_type": "display_data",
          "data": {
            "image/png": "[encoded data removed]",
            "text/plain": [
              "<Figure size 432x288 with 1 Axes>"
            ]
          },
          "metadata": {
            "needs_background": "light"
          }
        }
      ],
      "metadata": {
        "colab": {
          "base_uri": "https://localhost:8080/",
          "height": 284
        },
        "id": "zPtuGPxmFL6B",
        "outputId": "988be4ec-4cc2-4ef1-d060-e1c25c006028"
      }
    },
    {
      "cell_type": "code",
      "execution_count": 15,
      "source": [
        "# Number of testing and training examples\n",
        "m_train = x_train_orig.shape[0]\n",
        "m_test = x_test_orig.shape[0]\n",
        "\n",
        "# Number of rows and cols in an image\n",
        "img_rows = x_train_orig.shape[1]\n",
        "img_cols = x_train_orig.shape[2]\n",
        "\n",
        "# Reshape\n",
        "x_train = x_train_orig.reshape(x_train_orig.shape[0], img_rows, img_cols, colour_channels)\n",
        "x_test = x_test_orig.reshape(x_test_orig.shape[0], img_rows, img_cols, colour_channels)"
      ],
      "outputs": [],
      "metadata": {
        "id": "tcrpvQnyijl9"
      }
    },
    {
      "cell_type": "code",
      "execution_count": 16,
      "source": [
        "x_train = x_train.astype('float32')\n",
        "x_test = x_test.astype('float32')\n",
        "\n",
        "# Normalize image vectors\n",
        "x_train /= 255\n",
        "x_test /= 255"
      ],
      "outputs": [],
      "metadata": {
        "id": "DICcg6SbihiE"
      }
    },
    {
      "cell_type": "code",
      "execution_count": 17,
      "source": [
        "# Convert class vectors to binary class matrices\n",
        "y_train = keras.utils.to_categorical(y_train_orig, num_classes)\n",
        "y_test = keras.utils.to_categorical(y_test_orig, num_classes)"
      ],
      "outputs": [],
      "metadata": {
        "id": "ffedTzCPkH4m"
      }
    },
    {
      "cell_type": "code",
      "execution_count": 9,
      "source": [
        "# Shape of an image\n",
        "input_shape = (img_rows, img_cols, colour_channels)"
      ],
      "outputs": [],
      "metadata": {
        "id": "0K2oJl7VtYA5"
      }
    },
    {
      "cell_type": "code",
      "execution_count": 10,
      "source": [
        "print (\"Number of training examples: \" + str(m_train))\n",
        "print (\"Number of testing examples: \" + str(m_test))\n",
        "print (\"Each image is of size: \" + str(input_shape))\n",
        "print (\"x_train shape: \" + str(x_train.shape))\n",
        "print (\"y_train shape: \" + str(y_train.shape))\n",
        "print (\"x_test shape: \" + str(x_test.shape))\n",
        "print (\"y_test shape: \" + str(y_test.shape))"
      ],
      "outputs": [
        {
          "output_type": "stream",
          "name": "stdout",
          "text": [
            "Number of training examples: 60000\n",
            "Number of testing examples: 10000\n",
            "Each image is of size: (28, 28, 1)\n",
            "x_train shape: (60000, 28, 28, 1)\n",
            "y_train shape: (60000, 10)\n",
            "x_test shape: (10000, 28, 28, 1)\n",
            "y_test shape: (10000, 10)\n"
          ]
        }
      ],
      "metadata": {
        "colab": {
          "base_uri": "https://localhost:8080/"
        },
        "id": "2Hmtc9LO_Sbm",
        "outputId": "d1238ede-703e-4ffc-ff4d-29d41dd9fd18"
      }
    },
    {
      "cell_type": "code",
      "execution_count": 11,
      "source": [
        "# Define CNN model\n",
        "def model(input_shape):\n",
        "    \"\"\"\n",
        "    Implementation of a CNN for image classification.\n",
        "    \n",
        "    Arguments:\n",
        "    input_shape - shape of the images of the dataset\n",
        "\n",
        "    Returns:\n",
        "    model - a Model() instance in Keras\n",
        "    \"\"\"\n",
        "    \n",
        "    model = Sequential()\n",
        "    model.add(Conv2D(32, kernel_size=(3, 3),\n",
        "                    activation='relu',\n",
        "                    input_shape=input_shape))\n",
        "    model.add(Conv2D(64, (3, 3), activation='relu'))\n",
        "    model.add(MaxPooling2D(pool_size=(2, 2)))\n",
        "    model.add(Dropout(0.25))\n",
        "    model.add(Flatten())\n",
        "    model.add(Dense(128, activation='relu'))\n",
        "    model.add(Dropout(0.5))\n",
        "    model.add(Dense(num_classes, activation='softmax'))\n",
        "\n",
        "    return model"
      ],
      "outputs": [],
      "metadata": {
        "id": "9SjDRzrdJMPS"
      }
    },
    {
      "cell_type": "code",
      "execution_count": 13,
      "source": [
        "# Create the model\n",
        "cnn_image_model = model(input_shape)"
      ],
      "outputs": [],
      "metadata": {
        "id": "JSbPc-bvaGTN"
      }
    },
    {
      "cell_type": "code",
      "execution_count": 14,
      "source": [
        "# Compile model\n",
        "cnn_image_model.compile(loss=keras.losses.categorical_crossentropy, optimizer=keras.optimizers.Nadam(),metrics=['accuracy'])"
      ],
      "outputs": [],
      "metadata": {
        "id": "t__SE3DFXRPD"
      }
    },
    {
      "cell_type": "code",
      "execution_count": 15,
      "source": [
        "# Train model\n",
        "cnn_image_model.fit(x_train, y_train,\n",
        "          batch_size=batch_size,\n",
        "          epochs=epochs,\n",
        "          verbose=1,\n",
        "          validation_data=(x_test, y_test))"
      ],
      "outputs": [
        {
          "output_type": "stream",
          "name": "stdout",
          "text": [
            "Train on 60000 samples, validate on 10000 samples\n",
            "Epoch 1/5\n",
            "60000/60000 [==============================] - 92s 2ms/sample - loss: 0.5168 - acc: 0.8168 - val_loss: 0.3304 - val_acc: 0.8775\n",
            "Epoch 2/5\n",
            "60000/60000 [==============================] - 83s 1ms/sample - loss: 0.3370 - acc: 0.8809 - val_loss: 0.2846 - val_acc: 0.8982\n",
            "Epoch 3/5\n",
            "60000/60000 [==============================] - 84s 1ms/sample - loss: 0.2914 - acc: 0.8957 - val_loss: 0.2606 - val_acc: 0.9055\n",
            "Epoch 4/5\n",
            "60000/60000 [==============================] - 83s 1ms/sample - loss: 0.2596 - acc: 0.9054 - val_loss: 0.2467 - val_acc: 0.9107\n",
            "Epoch 5/5\n",
            "60000/60000 [==============================] - 84s 1ms/sample - loss: 0.2348 - acc: 0.9125 - val_loss: 0.2390 - val_acc: 0.9135\n"
          ]
        },
        {
          "output_type": "execute_result",
          "data": {
            "text/plain": [
              "<tensorflow.python.keras.callbacks.History at 0x7f6081c3f5c0>"
            ]
          },
          "metadata": {},
          "execution_count": 15
        }
      ],
      "metadata": {
        "colab": {
          "base_uri": "https://localhost:8080/"
        },
        "id": "6bgEQttRbqbf",
        "outputId": "c87743f4-2d0d-4431-d66e-d4483581e8f0"
      }
    },
    {
      "cell_type": "code",
      "execution_count": 31,
      "source": [
        "# Evaluate model\n",
        "score = cnn_image_model.evaluate(x_test, y_test, verbose=0)\n",
        "print('Test loss:', score[0])\n",
        "print('Test accuracy:', score[1])"
      ],
      "outputs": [
        {
          "output_type": "stream",
          "name": "stdout",
          "text": [
            "Test loss: 0.2389760017454624\n",
            "Test accuracy: 0.9135\n"
          ]
        }
      ],
      "metadata": {
        "colab": {
          "base_uri": "https://localhost:8080/"
        },
        "id": "AI2ZiSFYmApK",
        "outputId": "1a16289a-ead4-4dca-87ee-0f034160d0ef"
      }
    },
    {
      "cell_type": "code",
      "execution_count": 76,
      "source": [
        "# Save the entire model\n",
        "cnn_image_model.save('part3/models/cnn_images_model')"
      ],
      "outputs": [],
      "metadata": {}
    }
  ]
}